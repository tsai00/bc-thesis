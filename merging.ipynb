{
 "cells": [
  {
   "cell_type": "code",
   "execution_count": 7,
   "id": "f1d822a5",
   "metadata": {},
   "outputs": [],
   "source": [
    "import pandas as pd\n",
    "import os"
   ]
  },
  {
   "cell_type": "code",
   "execution_count": 14,
   "id": "057a43bf",
   "metadata": {},
   "outputs": [
    {
     "data": {
      "text/plain": [
       "(3700, 56)"
      ]
     },
     "execution_count": 14,
     "metadata": {},
     "output_type": "execute_result"
    }
   ],
   "source": [
    "list_data = []\n",
    "\n",
    "\n",
    "file1 = pd.read_excel('output_18_03_2022_08_27.xlsx')\n",
    "file2 = pd.read_excel('output_16_03_2022_21_22.xlsx')\n",
    "file3 = pd.read_excel('output_17_03_2022_14_40.xlsx')\n",
    "file4 = pd.read_excel('output_20_03_2022_12_20.xlsx')\n",
    "\n",
    "\n",
    "result = pd.concat([file1, file2, file3, file4])\n",
    "\n",
    "result.shape    "
   ]
  },
  {
   "cell_type": "code",
   "execution_count": 15,
   "id": "69b14f52",
   "metadata": {},
   "outputs": [],
   "source": [
    "result.drop_duplicates(subset=['id'], inplace=True)\n"
   ]
  },
  {
   "cell_type": "code",
   "execution_count": 16,
   "id": "eb27c366",
   "metadata": {},
   "outputs": [
    {
     "data": {
      "text/plain": [
       "(3546, 56)"
      ]
     },
     "execution_count": 16,
     "metadata": {},
     "output_type": "execute_result"
    }
   ],
   "source": [
    "result.shape"
   ]
  },
  {
   "cell_type": "code",
   "execution_count": 18,
   "id": "e600c6a0",
   "metadata": {},
   "outputs": [],
   "source": [
    "\n",
    "result.to_excel('final_output.xlsx')"
   ]
  },
  {
   "cell_type": "code",
   "execution_count": 19,
   "id": "10a14158",
   "metadata": {},
   "outputs": [
    {
     "data": {
      "text/plain": [
       "Index(['Unnamed: 0', 'id', 'uri', 'date', 'lat', 'lng', 'price', 'currency',\n",
       "       'keyOfferType', 'keyDisposition', 'surface', 'surfaceLand', 'url',\n",
       "       'Dispozice', 'Plocha', 'Cena', 'Poplatky', 'Vybavenost', 'Podlaží',\n",
       "       'Balkón', 'Terasa', 'Sklep', 'Lodžie', 'Parkování', 'Výtah', 'Garáž',\n",
       "       'K dispozici od', 'Zastávka veřejné dopravy', 'Pošta', 'Obchod',\n",
       "       'Banka', 'Restaurace', 'Lékárna', 'Škola', 'Mateřská škola',\n",
       "       'Sportoviště', 'Hřiště', 'Stav', 'Typ vlastnictví', 'Typ budovy',\n",
       "       'PENB', 'Vratná kauce', 'Provedení', 'Typ vytápění',\n",
       "       'Administrační poplatek', 'Podlaží v rámci domu', 'Rekonstrukce',\n",
       "       'Stáří', 'Novostavba', 'Předzahrádka', 'Developer', 'Název projektu',\n",
       "       'Kód jednotky', 'url_x', 'url_y', 'Unnamed: 38'],\n",
       "      dtype='object')"
      ]
     },
     "execution_count": 19,
     "metadata": {},
     "output_type": "execute_result"
    }
   ],
   "source": [
    "result.columns"
   ]
  },
  {
   "cell_type": "code",
   "execution_count": null,
   "id": "f081e17e",
   "metadata": {},
   "outputs": [],
   "source": []
  }
 ],
 "metadata": {
  "kernelspec": {
   "display_name": "Python 3 (ipykernel)",
   "language": "python",
   "name": "python3"
  },
  "language_info": {
   "codemirror_mode": {
    "name": "ipython",
    "version": 3
   },
   "file_extension": ".py",
   "mimetype": "text/x-python",
   "name": "python",
   "nbconvert_exporter": "python",
   "pygments_lexer": "ipython3",
   "version": "3.10.4"
  }
 },
 "nbformat": 4,
 "nbformat_minor": 5
}
